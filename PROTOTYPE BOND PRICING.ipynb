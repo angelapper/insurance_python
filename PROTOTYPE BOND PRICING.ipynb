{
 "cells": [
  {
   "cell_type": "code",
   "execution_count": 1,
   "id": "e29a2cf6",
   "metadata": {},
   "outputs": [],
   "source": [
    "import datetime as dt\n",
    "import numpy as np\n",
    "import pandas as pd"
   ]
  },
  {
   "cell_type": "code",
   "execution_count": 2,
   "id": "2e0acb43",
   "metadata": {},
   "outputs": [],
   "source": [
    "from Curves import Curves\n",
    "from ImportData import importSWEiopa\n",
    "from BondClasses import CorporateBond,CorporateBondPriced"
   ]
  },
  {
   "attachments": {},
   "cell_type": "markdown",
   "id": "1294f88b",
   "metadata": {},
   "source": [
    "## Input files\n",
    "\n",
    "There are multiple input files needed to calibrate the fixed income portfolio. They are located in the \"Input\" folder."
   ]
  },
  {
   "attachments": {},
   "cell_type": "markdown",
   "id": "77e4fea4",
   "metadata": {},
   "source": [
    "### Parameters.csv\n",
    "\n",
    "Parameters file holds information about the type of run and the modelling date.\n",
    "\n",
    " - EIOPA_param_file ...the relative location of the EIOPA parameter file that will be used as the RFR Ex. \"Input/Param_no_VA.csv\"\n",
    " - EIOPA_curves_file ... the relative location of the EIOPA yield curve that will be used as the RFR Ex. \"Input/Curves_no_VA.csv\"\n",
    " - country ... the name of the country that will be used as the base for this run Ex. \"Slovenia\"\n",
    " - n_proj_years ... length of a run in years starting from the Modelling date Ex. 50\n",
    " - Precision ... precision parameter specifying the acceptable tollerance between the calibrated bond price and the market value Ex. 0.00000001\n",
    " - Tau ... the acceptable size of the gap between the extrapolated yield rate and the ulitmate forward rate Ex. 0.0001\n",
    " - compounding ... the way that the interest rates are compounded in the run Ex. -1\n",
    " - Modelling_Date ... the starting date of the run specified as a date string Ex.\"29/04/2023\"\n"
   ]
  },
  {
   "attachments": {},
   "cell_type": "markdown",
   "id": "e54e482e",
   "metadata": {},
   "source": [
    "### EIOPA RFR files\n",
    "\n",
    "There are two types of files derived from the monthly EIOPA RFR submision that are used in this model. The \"Curves_XX.csv\" containing the yearly yield curves for all countries in scope and the \"Param_XX.csv\" with the paameters used to derive the curves. These files are used to derive the risk free term structure at the modelling date and to efficiently project the evolution of the term structure."
   ]
  },
  {
   "attachments": {},
   "cell_type": "markdown",
   "id": "aea3d2a6",
   "metadata": {},
   "source": [
    "### Portfolio description\n",
    "\n",
    "The modelled portfolio is split by asset classes. The fixed income portfolio is located in the file \"Bond_Portfolio.csv\". Each security needs the following fields:\n",
    "\n",
    " -  Asset ID ... unique id such as an ISIN, SEDOL or CUSIP code Ex. IT1234567891\n",
    " -  Asset_Type ... asset type string Ex. \"Corporate_Bond\"\n",
    " -  NACE ... NACE asset classification code (nomenclature statistique des activités économiques dans la Communauté européenne) Ex. A1.4.5\n",
    " -  Issue_Date ... the string date specifying the issue date of the bond Ex. 3/12/2021\n",
    " -  Maturity_Date ... the string date specifying the maturity date of the bond Ex. 3/12/2021\n",
    " -  Notional_amount ... the notional amount of the bond Ex. 100\n",
    " -  Coupon_Rate ... percentage of the notional amount paid in dividends every period (specified by Frequency) Ex. 0.0014\n",
    " -  Frequency ... number of times per a year that dividends are paid Ex. 1 (once per a year)\n",
    " -  Recovery_Rate ... percentage of the notional amound that can be recovered in case of a default Ex. 0.80\n",
    " -  Default_Probability ... percentage probability of default per year Ex. 0.012\n",
    " -  Market_Price ... market price of the bond at the modelling date Ex. 96"
   ]
  },
  {
   "attachments": {},
   "cell_type": "markdown",
   "id": "7fb266af",
   "metadata": {},
   "source": [
    "### Sector spread\n",
    "The list of NACE sector codes and the sector specific spread over the risk free rate\n",
    " - NACE ... NACE code of the issuer Ex. \"A1.1\" \n",
    " - NACE code text  ... description of the NACE code for this issuer Ex. \"Growing of non-perennial crops\" \n",
    " - sSpread  ...  NACE sector specific spread over the risk free rate Ex. 0.01\n"
   ]
  },
  {
   "cell_type": "code",
   "execution_count": 3,
   "id": "254b915a",
   "metadata": {},
   "outputs": [],
   "source": [
    "paramfile = pd.read_csv(\"Input/Parameters.csv\")\n",
    "paramfile.index = paramfile[\"Parameter\"]\n",
    "del paramfile[\"Parameter\"]"
   ]
  },
  {
   "cell_type": "code",
   "execution_count": 4,
   "id": "70b4a9c9",
   "metadata": {},
   "outputs": [
    {
     "data": {
      "text/html": [
       "<div>\n",
       "<style scoped>\n",
       "    .dataframe tbody tr th:only-of-type {\n",
       "        vertical-align: middle;\n",
       "    }\n",
       "\n",
       "    .dataframe tbody tr th {\n",
       "        vertical-align: top;\n",
       "    }\n",
       "\n",
       "    .dataframe thead th {\n",
       "        text-align: right;\n",
       "    }\n",
       "</style>\n",
       "<table border=\"1\" class=\"dataframe\">\n",
       "  <thead>\n",
       "    <tr style=\"text-align: right;\">\n",
       "      <th></th>\n",
       "      <th>value</th>\n",
       "    </tr>\n",
       "    <tr>\n",
       "      <th>Parameter</th>\n",
       "      <th></th>\n",
       "    </tr>\n",
       "  </thead>\n",
       "  <tbody>\n",
       "    <tr>\n",
       "      <th>EIOPA_param_file</th>\n",
       "      <td>Input/Param_no_VA.csv</td>\n",
       "    </tr>\n",
       "    <tr>\n",
       "      <th>EIOPA_curves_file</th>\n",
       "      <td>Input/Curves_no_VA.csv</td>\n",
       "    </tr>\n",
       "    <tr>\n",
       "      <th>country</th>\n",
       "      <td>Slovenia</td>\n",
       "    </tr>\n",
       "    <tr>\n",
       "      <th>run_type</th>\n",
       "      <td>Risk Neutral</td>\n",
       "    </tr>\n",
       "    <tr>\n",
       "      <th>n_proj_years</th>\n",
       "      <td>50</td>\n",
       "    </tr>\n",
       "    <tr>\n",
       "      <th>Precision</th>\n",
       "      <td>1E-10</td>\n",
       "    </tr>\n",
       "    <tr>\n",
       "      <th>Tau</th>\n",
       "      <td>0.0001</td>\n",
       "    </tr>\n",
       "    <tr>\n",
       "      <th>compounding</th>\n",
       "      <td>-1</td>\n",
       "    </tr>\n",
       "    <tr>\n",
       "      <th>Modelling_Date</th>\n",
       "      <td>29/04/2023</td>\n",
       "    </tr>\n",
       "  </tbody>\n",
       "</table>\n",
       "</div>"
      ],
      "text/plain": [
       "                                    value\n",
       "Parameter                                \n",
       "EIOPA_param_file    Input/Param_no_VA.csv\n",
       "EIOPA_curves_file  Input/Curves_no_VA.csv\n",
       "country                          Slovenia\n",
       "run_type                     Risk Neutral\n",
       "n_proj_years                           50\n",
       "Precision                           1E-10\n",
       "Tau                                0.0001\n",
       "compounding                            -1\n",
       "Modelling_Date                 29/04/2023"
      ]
     },
     "execution_count": 4,
     "metadata": {},
     "output_type": "execute_result"
    }
   ],
   "source": [
    "paramfile"
   ]
  },
  {
   "cell_type": "code",
   "execution_count": 5,
   "id": "a8898f27",
   "metadata": {},
   "outputs": [],
   "source": [
    "selected_param_file = paramfile.loc[\"EIOPA_param_file\"][0]\n",
    "selected_curves_file = paramfile.loc[\"EIOPA_curves_file\"][0]\n",
    "country = paramfile.loc[\"country\"][\"value\"]\n",
    "run_type = paramfile.loc[\"run_type\"][\"value\"]\n",
    "compounding = int(paramfile.loc[\"compounding\"][\"value\"])\n",
    "\n",
    "MD = dt.datetime.strptime(paramfile.loc[\"Modelling_Date\"][\"value\"],\"%d/%m/%Y\")\n",
    "MD = dt.date(MD.year,MD.month,MD.day)"
   ]
  },
  {
   "cell_type": "code",
   "execution_count": 6,
   "id": "352a46b7",
   "metadata": {},
   "outputs": [],
   "source": [
    "Precision = float(paramfile.loc[\"Precision\"][0]) # Numeric precision of the optimisation\n",
    "Tau = float(paramfile.loc[\"Tau\"][0]) # Targeted distance between the extrapolated curve and the ultimate forward rate at the convergence point"
   ]
  },
  {
   "cell_type": "code",
   "execution_count": 7,
   "id": "dbce8cad",
   "metadata": {},
   "outputs": [],
   "source": [
    "spreadfile = pd.read_csv(\"Input/Sector_Spread.csv\")\n",
    "spreadfile.index = spreadfile[\"NACE\"]\n",
    "del spreadfile[\"NACE\"]"
   ]
  },
  {
   "cell_type": "code",
   "execution_count": 8,
   "id": "8b5cb7a7",
   "metadata": {},
   "outputs": [],
   "source": [
    "bondfile = pd.read_csv(\"Input/Bond_Portfolio.csv\")\n",
    "bondfile.index = bondfile[\"Asset ID\"]\n",
    "del bondfile[\"Asset ID\"]"
   ]
  },
  {
   "attachments": {},
   "cell_type": "markdown",
   "id": "f63679bb",
   "metadata": {},
   "source": [
    "# IMPORT EIOPA CURVE\n",
    "\n",
    "From the EIOPA files, import the selected curve. The selection consists of what country and what type of curve (Example with or without Volatility Adjustment)"
   ]
  },
  {
   "cell_type": "code",
   "execution_count": 9,
   "id": "740cf9a9",
   "metadata": {},
   "outputs": [],
   "source": [
    "[maturities_country, curve_country, extra_param, Qb]= importSWEiopa(selected_param_file, selected_curves_file, country)"
   ]
  },
  {
   "cell_type": "code",
   "execution_count": 10,
   "id": "2f43c801",
   "metadata": {},
   "outputs": [],
   "source": [
    "# Maturity of observations:\n",
    "M_Obs = np.transpose(np.array(maturities_country.values))\n",
    "\n",
    "# Ultimate froward rate ufr represents the rate to which the rate curve will converge as time increases:\n",
    "ufr = extra_param.iloc[3]/100\n",
    "\n",
    "# Convergence speed parameter alpha controls the speed at which the curve converges towards the ufr from the last liquid point:\n",
    "alpha = extra_param.iloc[4]\n",
    "\n",
    "# Qb calibration vector published by EIOPA for the curve calibration:\n",
    "Qb = np.transpose(np.array(Qb.values))"
   ]
  },
  {
   "attachments": {},
   "cell_type": "markdown",
   "id": "3775ba12",
   "metadata": {},
   "source": [
    "Save the calibration parameters of the selected curve into the Curves instance:"
   ]
  },
  {
   "cell_type": "code",
   "execution_count": 11,
   "id": "993dd852",
   "metadata": {},
   "outputs": [],
   "source": [
    "Curves = Curves(ufr, Precision, Tau, MD, country)"
   ]
  },
  {
   "attachments": {},
   "cell_type": "markdown",
   "id": "4fa2d76f",
   "metadata": {},
   "source": [
    "# PRICING OF A COUPON BOND"
   ]
  },
  {
   "cell_type": "code",
   "execution_count": 12,
   "id": "aa4c924c",
   "metadata": {},
   "outputs": [
    {
     "data": {
      "text/html": [
       "<div>\n",
       "<style scoped>\n",
       "    .dataframe tbody tr th:only-of-type {\n",
       "        vertical-align: middle;\n",
       "    }\n",
       "\n",
       "    .dataframe tbody tr th {\n",
       "        vertical-align: top;\n",
       "    }\n",
       "\n",
       "    .dataframe thead th {\n",
       "        text-align: right;\n",
       "    }\n",
       "</style>\n",
       "<table border=\"1\" class=\"dataframe\">\n",
       "  <thead>\n",
       "    <tr style=\"text-align: right;\">\n",
       "      <th></th>\n",
       "      <th>Asset_Type</th>\n",
       "      <th>NACE</th>\n",
       "      <th>Issue_Date</th>\n",
       "      <th>Maturity_Date</th>\n",
       "      <th>Notional_amount</th>\n",
       "      <th>Coupon_Rate</th>\n",
       "      <th>Frequency</th>\n",
       "      <th>Recovery_Rate</th>\n",
       "      <th>Default_Probability</th>\n",
       "      <th>Market_Price</th>\n",
       "    </tr>\n",
       "    <tr>\n",
       "      <th>Asset ID</th>\n",
       "      <th></th>\n",
       "      <th></th>\n",
       "      <th></th>\n",
       "      <th></th>\n",
       "      <th></th>\n",
       "      <th></th>\n",
       "      <th></th>\n",
       "      <th></th>\n",
       "      <th></th>\n",
       "      <th></th>\n",
       "    </tr>\n",
       "  </thead>\n",
       "  <tbody>\n",
       "    <tr>\n",
       "      <th>1</th>\n",
       "      <td>Corporate_Bond</td>\n",
       "      <td>A1.4.5</td>\n",
       "      <td>3/12/2021</td>\n",
       "      <td>12/12/2026</td>\n",
       "      <td>100</td>\n",
       "      <td>0.03</td>\n",
       "      <td>1</td>\n",
       "      <td>0.4</td>\n",
       "      <td>0.03</td>\n",
       "      <td>94</td>\n",
       "    </tr>\n",
       "    <tr>\n",
       "      <th>2</th>\n",
       "      <td>Corporate_Bond</td>\n",
       "      <td>B5.2.0</td>\n",
       "      <td>3/12/2021</td>\n",
       "      <td>12/12/2028</td>\n",
       "      <td>100</td>\n",
       "      <td>0.05</td>\n",
       "      <td>1</td>\n",
       "      <td>0.4</td>\n",
       "      <td>0.03</td>\n",
       "      <td>92</td>\n",
       "    </tr>\n",
       "    <tr>\n",
       "      <th>3</th>\n",
       "      <td>Corporate_Bond</td>\n",
       "      <td>B8.9.3</td>\n",
       "      <td>3/12/2019</td>\n",
       "      <td>3/12/2020</td>\n",
       "      <td>100</td>\n",
       "      <td>0.04</td>\n",
       "      <td>1</td>\n",
       "      <td>0.4</td>\n",
       "      <td>0.03</td>\n",
       "      <td>96</td>\n",
       "    </tr>\n",
       "  </tbody>\n",
       "</table>\n",
       "</div>"
      ],
      "text/plain": [
       "              Asset_Type    NACE Issue_Date Maturity_Date  Notional_amount  \\\n",
       "Asset ID                                                                     \n",
       "1         Corporate_Bond  A1.4.5  3/12/2021    12/12/2026              100   \n",
       "2         Corporate_Bond  B5.2.0  3/12/2021    12/12/2028              100   \n",
       "3         Corporate_Bond  B8.9.3  3/12/2019     3/12/2020              100   \n",
       "\n",
       "          Coupon_Rate  Frequency  Recovery_Rate  Default_Probability  \\\n",
       "Asset ID                                                               \n",
       "1                0.03          1            0.4                 0.03   \n",
       "2                0.05          1            0.4                 0.03   \n",
       "3                0.04          1            0.4                 0.03   \n",
       "\n",
       "          Market_Price  \n",
       "Asset ID                \n",
       "1                   94  \n",
       "2                   92  \n",
       "3                   96  "
      ]
     },
     "metadata": {},
     "output_type": "display_data"
    }
   ],
   "source": [
    "display(bondfile)"
   ]
  },
  {
   "cell_type": "code",
   "execution_count": 13,
   "id": "46f3e18c",
   "metadata": {},
   "outputs": [],
   "source": [
    "def converttime(date_time):\n",
    "    format = \"%d/%m/%Y\"\n",
    "    datetime_str = dt.datetime.strptime(date_time,format).date()\n",
    "    return datetime_str"
   ]
  },
  {
   "cell_type": "code",
   "execution_count": 14,
   "id": "541e211c",
   "metadata": {},
   "outputs": [],
   "source": [
    "nace = np.array([])\n",
    "issuedate = np.array([])\n",
    "maturitydate = np.array([])\n",
    "notional = np.array([])\n",
    "couponrate = np.array([])\n",
    "frequency = np.array([])\n",
    "recovrate = np.array([])\n",
    "defprob = np.array([])\n",
    "sspread = np.array([])\n",
    "zspread = np.array([])\n",
    "marketprice = np.array([])\n",
    "\n",
    "for iCount in range(0,bondfile.index.size):\n",
    "    nace = np.append(nace,bondfile[\"NACE\"].iloc[iCount])\n",
    "    issuedate = np.append(issuedate,converttime(bondfile[\"Issue_Date\"].iloc[iCount]))\n",
    "    maturitydate = np.append(maturitydate,converttime(bondfile[\"Maturity_Date\"].iloc[iCount]))\n",
    "    notional = np.append(notional,bondfile[\"Notional_amount\"].iloc[iCount])\n",
    "    couponrate = np.append(couponrate,bondfile[\"Coupon_Rate\"].iloc[iCount])\n",
    "    frequency = np.append(frequency,bondfile[\"Frequency\"].iloc[iCount])\n",
    "    recovrate = np.append(recovrate,bondfile[\"Recovery_Rate\"].iloc[iCount])\n",
    "    defprob = np.append(defprob,bondfile[\"Default_Probability\"].iloc[iCount])\n",
    "    if run_type==\"Risk Neutral\":\n",
    "        sspread = np.append(sspread,0)\n",
    "    else:\n",
    "        sspread = np.append(sspread,spreadfile.loc[bondfile[\"NACE\"].iloc[iCount]][\"sSpread\"])   \n",
    "    marketprice = np.append(marketprice, bondfile[\"Market_Price\"].iloc[iCount])"
   ]
  },
  {
   "cell_type": "code",
   "execution_count": 15,
   "id": "2d7fb75f",
   "metadata": {},
   "outputs": [],
   "source": [
    "cb = CorporateBond(issuedate, maturitydate, frequency, notional, couponrate, recovrate, defprob, sspread, zspread, marketprice,compounding)"
   ]
  },
  {
   "attachments": {},
   "cell_type": "markdown",
   "id": "af26b0b2",
   "metadata": {},
   "source": [
    "### createcashflowdates() function\n",
    "\n",
    "Based on the bond description, issue and maturity date, this function creates a list of lists of dates when the cash flows are expected to be paid. \n",
    "\n",
    "Note that this list is indepenedent of the modelling date."
   ]
  },
  {
   "cell_type": "code",
   "execution_count": 16,
   "id": "9acf761d",
   "metadata": {},
   "outputs": [],
   "source": [
    "cb.createcashflowdates()"
   ]
  },
  {
   "attachments": {},
   "cell_type": "markdown",
   "id": "b50097a4",
   "metadata": {},
   "source": [
    "Test to see what the function produced:"
   ]
  },
  {
   "cell_type": "code",
   "execution_count": 17,
   "id": "a2936208",
   "metadata": {},
   "outputs": [
    {
     "data": {
      "text/plain": [
       "[array([datetime.date(2022, 12, 3), datetime.date(2023, 12, 3),\n",
       "        datetime.date(2024, 12, 3), datetime.date(2025, 12, 3),\n",
       "        datetime.date(2026, 12, 3)], dtype=object),\n",
       " array([datetime.date(2022, 12, 3), datetime.date(2023, 12, 3),\n",
       "        datetime.date(2024, 12, 3), datetime.date(2025, 12, 3),\n",
       "        datetime.date(2026, 12, 3), datetime.date(2027, 12, 3),\n",
       "        datetime.date(2028, 12, 3)], dtype=object),\n",
       " array([datetime.date(2020, 12, 3)], dtype=object)]"
      ]
     },
     "execution_count": 17,
     "metadata": {},
     "output_type": "execute_result"
    }
   ],
   "source": [
    "cb.coupondates"
   ]
  },
  {
   "cell_type": "code",
   "execution_count": 18,
   "id": "1a748d19",
   "metadata": {},
   "outputs": [
    {
     "data": {
      "text/plain": [
       "[array([datetime.date(2026, 12, 12)], dtype=object),\n",
       " array([datetime.date(2028, 12, 12)], dtype=object),\n",
       " array([datetime.date(2020, 12, 3)], dtype=object)]"
      ]
     },
     "execution_count": 18,
     "metadata": {},
     "output_type": "execute_result"
    }
   ],
   "source": [
    "cb.notionaldates"
   ]
  },
  {
   "cell_type": "code",
   "execution_count": 19,
   "id": "b50ee567",
   "metadata": {},
   "outputs": [],
   "source": [
    "#cb.createcashflows()"
   ]
  },
  {
   "attachments": {},
   "cell_type": "markdown",
   "id": "c9ffba53",
   "metadata": {},
   "source": [
    "### refactordates() function\n",
    "\n",
    "Given a specific modelling date, the function calculates the fractionns of the year between the modelling date and each cash flow. Only cash flows after the modelling date are considered. The second input is the index number of cashflows that occur after the modelling date.\n"
   ]
  },
  {
   "cell_type": "code",
   "execution_count": 20,
   "id": "b26de413",
   "metadata": {},
   "outputs": [
    {
     "data": {
      "text/plain": [
       "[[array([0.59685147, 1.59890486, 2.5982204 , 3.59753593]),\n",
       "  array([0.59685147, 1.59890486, 2.5982204 , 3.59753593, 4.59685147,\n",
       "         5.59890486]),\n",
       "  array([], dtype=float64)],\n",
       " [array([1, 2, 3, 4]), array([1, 2, 3, 4, 5, 6]), array([], dtype=int32)],\n",
       " [array([3.62217659]), array([5.62354552]), array([], dtype=float64)],\n",
       " [array([1]), array([1]), array([], dtype=int32)]]"
      ]
     },
     "execution_count": 20,
     "metadata": {},
     "output_type": "execute_result"
    }
   ],
   "source": [
    "cb.refactordates(MD)"
   ]
  },
  {
   "attachments": {},
   "cell_type": "markdown",
   "id": "004f49b9",
   "metadata": {},
   "source": [
    "Test refactordates() function"
   ]
  },
  {
   "cell_type": "code",
   "execution_count": 21,
   "id": "27a8f433",
   "metadata": {},
   "outputs": [
    {
     "data": {
      "text/plain": [
       "[array([0.59685147, 1.59890486, 2.5982204 , 3.59753593]),\n",
       " array([0.59685147, 1.59890486, 2.5982204 , 3.59753593, 4.59685147,\n",
       "        5.59890486]),\n",
       " array([], dtype=float64)]"
      ]
     },
     "execution_count": 21,
     "metadata": {},
     "output_type": "execute_result"
    }
   ],
   "source": [
    "cb.coupondatesfrac"
   ]
  },
  {
   "attachments": {},
   "cell_type": "markdown",
   "id": "b7d73e13",
   "metadata": {},
   "source": [
    "### generatecashflows()\n",
    "\n",
    "Generates the vector of cash flows for each asset. One for each coupon and one for each notional amount."
   ]
  },
  {
   "cell_type": "code",
   "execution_count": 26,
   "id": "e87709e0",
   "metadata": {},
   "outputs": [
    {
     "data": {
      "text/plain": [
       "[[array([3., 3., 3., 3.]),\n",
       "  array([5., 5., 5., 5., 5., 5.]),\n",
       "  array([], dtype=float64)],\n",
       " [array([100.]), array([100.]), array([100.])]]"
      ]
     },
     "execution_count": 26,
     "metadata": {},
     "output_type": "execute_result"
    }
   ],
   "source": [
    "cb.createcashflowsnew()"
   ]
  },
  {
   "attachments": {},
   "cell_type": "markdown",
   "id": "920f3206",
   "metadata": {},
   "source": [
    "### Calibrate the bonds"
   ]
  },
  {
   "cell_type": "code",
   "execution_count": null,
   "id": "2d3a4873",
   "metadata": {},
   "outputs": [],
   "source": [
    "def BisectionsSpread(obj, xStart, xEnd, coupontargetrate,notionaltargetrate,coupondatefrac,notionaldatefrac,couponcfs,notionalcf,sspread, marketprice, Precision, maxIter):\n",
    "    \"\"\"\n",
    "    Bisection root finding algorithm for finding the root of a function. The function here is the allowed difference between the ultimate forward rate and the extrapolated curve using Smith & Wilson.\n",
    "\n",
    "    Args:\n",
    "        cbPriced =  CorporateBondPriced object containing the list of priced bonds, spreads and cash flows\n",
    "        xStart =    1 x 1 floating number representing the minimum allowed value of the convergence speed parameter alpha. Ex. alpha = 0.05\n",
    "        xEnd =      1 x 1 floating number representing the maximum allowed value of the convergence speed parameter alpha. Ex. alpha = 0.8\n",
    "        M_Obs =     n x 1 ndarray of maturities of bonds, that have rates provided in input (r). Ex. u = [[1], [3]]\n",
    "        r_Obs =     n x 1 ndarray of rates, for which you wish to calibrate the algorithm. Each rate belongs to an observable Zero-Coupon Bond with a known maturity. Ex. r = [[0.0024], [0.0034]]\n",
    "        ufr  =      1 x 1 floating number, representing the ultimate forward rate. Ex. ufr = 0.042\n",
    "        Tau =       1 x 1 floating number representing the allowed difference between ufr and actual curve. Ex. Tau = 0.00001\n",
    "        Precision = 1 x 1 floating number representing the precision of the calculation. Higher the precision, more accurate the estimation of the root\n",
    "        maxIter =   1 x 1 positive integer representing the maximum number of iterations allowed. This is to prevent an infinite loop in case the method does not converge to a solution         \n",
    "    \n",
    "    Returns:\n",
    "        1 x 1 floating number representing the optimal value of the parameter alpha \n",
    "\n",
    "    Example of use:\n",
    "        >>> import numpy as np\n",
    "        >>> from SWCalibrate import SWCalibrate as SWCalibrate\n",
    "        >>> M_Obs = np.transpose(np.array([1, 2, 4, 5, 6, 7]))\n",
    "        >>> r_Obs =  np.transpose(np.array([0.01, 0.02, 0.03, 0.032, 0.035, 0.04]))\n",
    "        >>> xStart = 0.05\n",
    "        >>> xEnd = 0.5\n",
    "        >>> maxIter = 1000\n",
    "        >>> alfa = 0.15\n",
    "        >>> ufr = 0.042\n",
    "        >>> Precision = 0.0000000001\n",
    "        >>> Tau = 0.0001\n",
    "        >>> BisectionAlpha(xStart, xEnd, M_Obs, r_Obs, ufr, Tau, Precision, maxIter)\n",
    "        [Out] 0.11549789285636511\n",
    "\n",
    "    For more information see https://www.eiopa.europa.eu/sites/default/files/risk_free_interest_rate/12092019-technical_documentation.pdf and https://en.wikipedia.org/wiki/Bisection_method\n",
    "    \n",
    "    Implemented by Gregor Fabjan from Qnity Consultants on 17/12/2021.\n",
    "    \"\"\"   \n",
    "\n",
    "    yStart = obj.OpenPriceBond(coupontargetrate,notionaltargetrate,coupondatefrac,notionaldatefrac,couponcfs,notionalcf,sspread,xStart)\n",
    "    yEnd = obj.OpenPriceBond(coupontargetrate,notionaltargetrate,coupondatefrac,notionaldatefrac,couponcfs,notionalcf,sspread,xEnd)\n",
    "    if np.abs(yStart-marketprice) < Precision:\n",
    "        return xStart\n",
    "    if np.abs(yEnd-marketprice) < Precision:\n",
    "        return xEnd # If final point already satisfies the conditions return end point\n",
    "    iIter = 0\n",
    "    while iIter <= maxIter:\n",
    "        xMid = (xEnd+xStart)/2 # calculate mid-point\n",
    "        yMid = obj.OpenPriceBond(coupontargetrate,notionaltargetrate,coupondatefrac,notionaldatefrac,couponcfs,notionalcf,sspread,xMid) # What is the solution at midpoint\n",
    "        if ((yStart-marketprice) == 0 or (xEnd-xStart)/2 < Precision): # Solution found\n",
    "            return xMid\n",
    "        else: # Solution not found\n",
    "            iIter += 1\n",
    "            if np.sign(yMid-marketprice) == np.sign(yStart-marketprice): # If the start point and the middle point have the same sign, then the root must be in the second half of the interval   \n",
    "                xStart = xMid\n",
    "            else: # If the start point and the middle point have a different sign than by mean value theorem the interval must contain at least one root\n",
    "                xEnd = xMid\n",
    "    return \"Did not converge\""
   ]
  },
  {
   "cell_type": "code",
   "execution_count": null,
   "id": "b4568056",
   "metadata": {},
   "outputs": [],
   "source": [
    "#cbPriced.PriceBond(coupontargetrates,notionaltargetrates,coupondatefrac,notionaldatefrac,cbPriced.couponcfs,cbPriced.notionalcfs,cbPriced.sspread,np.array([0.01,0.01]))"
   ]
  },
  {
   "attachments": {},
   "cell_type": "markdown",
   "id": "270fc7a3",
   "metadata": {},
   "source": [
    "# STIL TO UPDATE FROM HERE DOWNWARD"
   ]
  },
  {
   "cell_type": "code",
   "execution_count": 22,
   "id": "537c1720",
   "metadata": {},
   "outputs": [],
   "source": [
    "#cbPriced = CorporateBondPriced(MD,compounding)"
   ]
  },
  {
   "cell_type": "code",
   "execution_count": 23,
   "id": "4f566cf5",
   "metadata": {},
   "outputs": [],
   "source": [
    "#[coupondatesconsidered,coupondatefrac] = cbPriced.refactordates(cb.coupondates,MD)\n",
    "#[notionaldatesconsidered,notionaldatefrac] = cbPriced.refactordates(cb.notionaldates,MD)"
   ]
  },
  {
   "cell_type": "code",
   "execution_count": 24,
   "id": "d85de327",
   "metadata": {},
   "outputs": [],
   "source": [
    "# carry forward the sspread of bonds that are still relevant\n",
    "#cbPriced.sspread = []\n",
    "#cbPriced.marketprice = []\n",
    "\n",
    "#for iCount in range(0,len(notionaldatesconsidered)-1):\n",
    "#    if notionaldatesconsidered[iCount] == [0]:\n",
    "#        cbPriced.sspread = np.append(cbPriced.sspread,cb.sspread[iCount])\n",
    "#        cbPriced.marketprice = np.append(cbPriced.marketprice,cb.marketprice[iCount])"
   ]
  },
  {
   "cell_type": "code",
   "execution_count": 25,
   "id": "9021e186",
   "metadata": {},
   "outputs": [
    {
     "ename": "IndexError",
     "evalue": "list index out of range",
     "output_type": "error",
     "traceback": [
      "\u001b[1;31m---------------------------------------------------------------------------\u001b[0m",
      "\u001b[1;31mIndexError\u001b[0m                                Traceback (most recent call last)",
      "\u001b[1;32m~\\AppData\\Local\\Temp/ipykernel_12428/1651907312.py\u001b[0m in \u001b[0;36m<module>\u001b[1;34m\u001b[0m\n\u001b[0;32m     11\u001b[0m         \u001b[0mcbPriced\u001b[0m\u001b[1;33m.\u001b[0m\u001b[0mcoupondatefrac\u001b[0m\u001b[1;33m.\u001b[0m\u001b[0mappend\u001b[0m\u001b[1;33m(\u001b[0m\u001b[0mnp\u001b[0m\u001b[1;33m.\u001b[0m\u001b[0mtranspose\u001b[0m\u001b[1;33m(\u001b[0m\u001b[0mcoupondatefrac\u001b[0m\u001b[1;33m[\u001b[0m\u001b[0miAsset\u001b[0m\u001b[1;33m]\u001b[0m\u001b[1;33m)\u001b[0m\u001b[1;33m)\u001b[0m\u001b[1;33m\u001b[0m\u001b[1;33m\u001b[0m\u001b[0m\n\u001b[0;32m     12\u001b[0m         \u001b[0mcbPriced\u001b[0m\u001b[1;33m.\u001b[0m\u001b[0mnotionaldatefrac\u001b[0m\u001b[1;33m.\u001b[0m\u001b[0mappend\u001b[0m\u001b[1;33m(\u001b[0m\u001b[0mnp\u001b[0m\u001b[1;33m.\u001b[0m\u001b[0mtranspose\u001b[0m\u001b[1;33m(\u001b[0m\u001b[0mnotionaldatefrac\u001b[0m\u001b[1;33m[\u001b[0m\u001b[0miAsset\u001b[0m\u001b[1;33m]\u001b[0m\u001b[1;33m)\u001b[0m\u001b[1;33m)\u001b[0m\u001b[1;33m\u001b[0m\u001b[1;33m\u001b[0m\u001b[0m\n\u001b[1;32m---> 13\u001b[1;33m         \u001b[0mcbPriced\u001b[0m\u001b[1;33m.\u001b[0m\u001b[0mcouponcfs\u001b[0m\u001b[1;33m.\u001b[0m\u001b[0mappend\u001b[0m\u001b[1;33m(\u001b[0m\u001b[0mcb\u001b[0m\u001b[1;33m.\u001b[0m\u001b[0mcouponcfs\u001b[0m\u001b[1;33m[\u001b[0m\u001b[0miAsset\u001b[0m\u001b[1;33m]\u001b[0m\u001b[1;33m[\u001b[0m\u001b[0mcoupondatesconsidered\u001b[0m\u001b[1;33m[\u001b[0m\u001b[0miAsset\u001b[0m\u001b[1;33m]\u001b[0m\u001b[1;33m]\u001b[0m\u001b[1;33m)\u001b[0m\u001b[1;33m\u001b[0m\u001b[1;33m\u001b[0m\u001b[0m\n\u001b[0m\u001b[0;32m     14\u001b[0m         \u001b[0mcbPriced\u001b[0m\u001b[1;33m.\u001b[0m\u001b[0mnotionalcfs\u001b[0m\u001b[1;33m.\u001b[0m\u001b[0mappend\u001b[0m\u001b[1;33m(\u001b[0m\u001b[0mcb\u001b[0m\u001b[1;33m.\u001b[0m\u001b[0mnotionalcfs\u001b[0m\u001b[1;33m[\u001b[0m\u001b[0miAsset\u001b[0m\u001b[1;33m]\u001b[0m\u001b[1;33m)\u001b[0m\u001b[1;33m\u001b[0m\u001b[1;33m\u001b[0m\u001b[0m\n",
      "\u001b[1;31mIndexError\u001b[0m: list index out of range"
     ]
    }
   ],
   "source": [
    "#coupontargetrates = []\n",
    "#notionaltargetrates = []\n",
    "\n",
    "#for iAsset in range(0,issuedate.size-1):\n",
    "#\n",
    "#    if not notionaldatesconsidered:\n",
    "#       print(\"This bond has matured\") \n",
    "#    else: \n",
    "#        coupontargetrates.append(Curves.SWExtrapolate(np.transpose(coupondatefrac[iAsset]),M_Obs, Qb, ufr, alpha))\n",
    "#        notionaltargetrates.append(Curves.SWExtrapolate(np.transpose(notionaldatefrac[iAsset]),M_Obs, Qb, ufr, alpha))\n",
    "#        cbPriced.coupondatefrac.append(np.transpose(coupondatefrac[iAsset]))\n",
    "#        cbPriced.notionaldatefrac.append(np.transpose(notionaldatefrac[iAsset]))\n",
    "#        cbPriced.couponcfs.append(cb.couponcfs[iAsset][coupondatesconsidered[iAsset]])\n",
    "#        cbPriced.notionalcfs.append(cb.notionalcfs[iAsset])"
   ]
  },
  {
   "attachments": {},
   "cell_type": "markdown",
   "id": "4463a0b1",
   "metadata": {},
   "source": [
    "Remove cashflows that are not considered"
   ]
  },
  {
   "cell_type": "code",
   "execution_count": null,
   "id": "6320842d",
   "metadata": {},
   "outputs": [],
   "source": [
    "#cbPriced.PriceBond(coupontargetrates,notionaltargetrates,coupondatefrac,notionaldatefrac,cbPriced.couponcfs,cbPriced.notionalcfs,cbPriced.sspread,np.array([0.01,0.01]))"
   ]
  },
  {
   "attachments": {},
   "cell_type": "markdown",
   "id": "acd9b9e7",
   "metadata": {},
   "source": [
    "### Calibration of two hypothetical bonds that mature after modelling date"
   ]
  },
  {
   "cell_type": "code",
   "execution_count": null,
   "id": "38663980",
   "metadata": {},
   "outputs": [],
   "source": [
    "def BisectionsSpread(obj, xStart, xEnd, coupontargetrate,notionaltargetrate,coupondatefrac,notionaldatefrac,couponcfs,notionalcf,sspread, marketprice, Precision, maxIter):\n",
    "    \"\"\"\n",
    "    Bisection root finding algorithm for finding the root of a function. The function here is the allowed difference between the ultimate forward rate and the extrapolated curve using Smith & Wilson.\n",
    "\n",
    "    Args:\n",
    "        cbPriced =  CorporateBondPriced object containing the list of priced bonds, spreads and cash flows\n",
    "        xStart =    1 x 1 floating number representing the minimum allowed value of the convergence speed parameter alpha. Ex. alpha = 0.05\n",
    "        xEnd =      1 x 1 floating number representing the maximum allowed value of the convergence speed parameter alpha. Ex. alpha = 0.8\n",
    "        M_Obs =     n x 1 ndarray of maturities of bonds, that have rates provided in input (r). Ex. u = [[1], [3]]\n",
    "        r_Obs =     n x 1 ndarray of rates, for which you wish to calibrate the algorithm. Each rate belongs to an observable Zero-Coupon Bond with a known maturity. Ex. r = [[0.0024], [0.0034]]\n",
    "        ufr  =      1 x 1 floating number, representing the ultimate forward rate. Ex. ufr = 0.042\n",
    "        Tau =       1 x 1 floating number representing the allowed difference between ufr and actual curve. Ex. Tau = 0.00001\n",
    "        Precision = 1 x 1 floating number representing the precision of the calculation. Higher the precision, more accurate the estimation of the root\n",
    "        maxIter =   1 x 1 positive integer representing the maximum number of iterations allowed. This is to prevent an infinite loop in case the method does not converge to a solution         \n",
    "    \n",
    "    Returns:\n",
    "        1 x 1 floating number representing the optimal value of the parameter alpha \n",
    "\n",
    "    Example of use:\n",
    "        >>> import numpy as np\n",
    "        >>> from SWCalibrate import SWCalibrate as SWCalibrate\n",
    "        >>> M_Obs = np.transpose(np.array([1, 2, 4, 5, 6, 7]))\n",
    "        >>> r_Obs =  np.transpose(np.array([0.01, 0.02, 0.03, 0.032, 0.035, 0.04]))\n",
    "        >>> xStart = 0.05\n",
    "        >>> xEnd = 0.5\n",
    "        >>> maxIter = 1000\n",
    "        >>> alfa = 0.15\n",
    "        >>> ufr = 0.042\n",
    "        >>> Precision = 0.0000000001\n",
    "        >>> Tau = 0.0001\n",
    "        >>> BisectionAlpha(xStart, xEnd, M_Obs, r_Obs, ufr, Tau, Precision, maxIter)\n",
    "        [Out] 0.11549789285636511\n",
    "\n",
    "    For more information see https://www.eiopa.europa.eu/sites/default/files/risk_free_interest_rate/12092019-technical_documentation.pdf and https://en.wikipedia.org/wiki/Bisection_method\n",
    "    \n",
    "    Implemented by Gregor Fabjan from Qnity Consultants on 17/12/2021.\n",
    "    \"\"\"   \n",
    "\n",
    "    yStart = obj.OpenPriceBond(coupontargetrate,notionaltargetrate,coupondatefrac,notionaldatefrac,couponcfs,notionalcf,sspread,xStart)\n",
    "    yEnd = obj.OpenPriceBond(coupontargetrate,notionaltargetrate,coupondatefrac,notionaldatefrac,couponcfs,notionalcf,sspread,xEnd)\n",
    "    if np.abs(yStart-marketprice) < Precision:\n",
    "        return xStart\n",
    "    if np.abs(yEnd-marketprice) < Precision:\n",
    "        return xEnd # If final point already satisfies the conditions return end point\n",
    "    iIter = 0\n",
    "    while iIter <= maxIter:\n",
    "        xMid = (xEnd+xStart)/2 # calculate mid-point\n",
    "        yMid = obj.OpenPriceBond(coupontargetrate,notionaltargetrate,coupondatefrac,notionaldatefrac,couponcfs,notionalcf,sspread,xMid) # What is the solution at midpoint\n",
    "        if ((yStart-marketprice) == 0 or (xEnd-xStart)/2 < Precision): # Solution found\n",
    "            return xMid\n",
    "        else: # Solution not found\n",
    "            iIter += 1\n",
    "            if np.sign(yMid-marketprice) == np.sign(yStart-marketprice): # If the start point and the middle point have the same sign, then the root must be in the second half of the interval   \n",
    "                xStart = xMid\n",
    "            else: # If the start point and the middle point have a different sign than by mean value theorem the interval must contain at least one root\n",
    "                xEnd = xMid\n",
    "    return \"Did not converge\""
   ]
  },
  {
   "cell_type": "code",
   "execution_count": null,
   "id": "454559c1",
   "metadata": {},
   "outputs": [],
   "source": [
    "cbPriced.zspread = []\n",
    "for iCount in range(0,len(coupontargetrates)):\n",
    "    zSpreadTmp = BisectionsSpread(cbPriced, -0.2, 0.2, coupontargetrates[iCount],notionaltargetrates[iCount],cbPriced.coupondatefrac[iCount],cbPriced.notionaldatefrac[iCount],cbPriced.couponcfs[iCount],cbPriced.notionalcfs[iCount],cbPriced.sspread[iCount],cbPriced.marketprice[iCount], Precision, 1000)\n",
    "    cbPriced.zspread = np.append(cbPriced.zspread,zSpreadTmp)"
   ]
  },
  {
   "cell_type": "code",
   "execution_count": null,
   "id": "86f1fa88",
   "metadata": {},
   "outputs": [
    {
     "data": {
      "text/plain": [
       "array([0.00056424, 0.02093499])"
      ]
     },
     "execution_count": 26,
     "metadata": {},
     "output_type": "execute_result"
    }
   ],
   "source": [
    "cbPriced.zspread"
   ]
  },
  {
   "cell_type": "code",
   "execution_count": null,
   "id": "836d1e95",
   "metadata": {},
   "outputs": [
    {
     "data": {
      "text/plain": [
       "array([94., 92.])"
      ]
     },
     "execution_count": 27,
     "metadata": {},
     "output_type": "execute_result"
    }
   ],
   "source": [
    "cbPriced.marketprice"
   ]
  },
  {
   "cell_type": "code",
   "execution_count": null,
   "id": "d577c4a7",
   "metadata": {},
   "outputs": [
    {
     "data": {
      "text/plain": [
       "[array([0.04474545, 0.04352242, 0.04174698, 0.04015462]),\n",
       " array([0.04474545, 0.04352242, 0.04174698, 0.04015462, 0.03903412,\n",
       "        0.03830698])]"
      ]
     },
     "execution_count": 28,
     "metadata": {},
     "output_type": "execute_result"
    }
   ],
   "source": [
    "coupontargetrates"
   ]
  },
  {
   "cell_type": "code",
   "execution_count": null,
   "id": "1c4d82cf",
   "metadata": {},
   "outputs": [
    {
     "data": {
      "text/plain": [
       "array([0.01, 0.01])"
      ]
     },
     "execution_count": 29,
     "metadata": {},
     "output_type": "execute_result"
    }
   ],
   "source": [
    "cbPriced.sspread"
   ]
  },
  {
   "cell_type": "code",
   "execution_count": null,
   "id": "7aa0b82c",
   "metadata": {},
   "outputs": [
    {
     "data": {
      "text/plain": [
       "array([0.00056424, 0.02093499])"
      ]
     },
     "execution_count": 30,
     "metadata": {},
     "output_type": "execute_result"
    }
   ],
   "source": [
    "cbPriced.zspread"
   ]
  }
 ],
 "metadata": {
  "kernelspec": {
   "display_name": "Python 3 (ipykernel)",
   "language": "python",
   "name": "python3"
  },
  "language_info": {
   "codemirror_mode": {
    "name": "ipython",
    "version": 3
   },
   "file_extension": ".py",
   "mimetype": "text/x-python",
   "name": "python",
   "nbconvert_exporter": "python",
   "pygments_lexer": "ipython3",
   "version": "3.9.7"
  }
 },
 "nbformat": 4,
 "nbformat_minor": 5
}
